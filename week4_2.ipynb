{
 "cells": [
  {
   "cell_type": "markdown",
   "metadata": {},
   "source": [
    "# Open a New Restaurant in NYC"
   ]
  },
  {
   "cell_type": "markdown",
   "metadata": {},
   "source": [
    "## Introduction"
   ]
  },
  {
   "cell_type": "markdown",
   "metadata": {},
   "source": [
    "Along with the Statue of Liberty, yellow cabs and skyscrapers, food is a quintessential component of New York City. Its status as a cultural melting pot means you can eat your way across the globe within the confines of one city, taking in some iconic dishes along the way.    \n",
    "1. Central and Eastern European immigrants, especially Jewish immigrants - bagels, cheesecake, hot dogs, knishes, and delicatessens\n",
    "2. Italian immigrants - New York-style pizza and Italian cuisine\n",
    "3. Jewish immigrants and Irish immigrants - pastrami and corned beef\n",
    "4. Chinese and other Asian restaurants, sandwich joints, trattorias, diners, and coffeehouses are ubiquitous throughout the city\n",
    "5. Middle Eastern foods such as falafel and kebabs examples of modern New York street food\n",
    "\n",
    "The objective of this project is to locate and recommend which neighborhood of New York city will be best choice to start a restaurant and explain the rationale of the recommendations. "
   ]
  },
  {
   "cell_type": "markdown",
   "metadata": {},
   "source": [
    "## Data"
   ]
  },
  {
   "cell_type": "markdown",
   "metadata": {},
   "source": [
    "* Neighborhood segmentation data: https://geo.nyu.edu/catalog/nyu_2451_34572\n",
    "* DOHMH Farmers Markets data for analysis of suppliers of ingredients: \n",
    "https://data.cityofnewyork.us/dataset/DOHMH-Farmers-Markets-and-Food-Boxes/8vwk-6iz2\n",
    "* New York population data: https://en.wikipedia.org/wiki/New_York_City\n",
    "* New York demographics data: https://en.wikipedia.org/wiki/Economy_of_New_York_City, https://en.wikipedia.org/wiki/Portal:New_York_City\n",
    "* Cuisine of New York city: https://en.wikipedia.org/wiki/Cuisine_of_New_York_City, https://en.wikipedia.org/wiki/List_of_Michelin_starred_restaurants_in_New_York_City\n",
    "* [Foursquare](https://developer.foursquare.com/) was used to gather data on the current selection of restaurants in New York."
   ]
  }
 ],
 "metadata": {
  "kernelspec": {
   "display_name": "Python 3",
   "language": "python",
   "name": "python3"
  },
  "language_info": {
   "codemirror_mode": {
    "name": "ipython",
    "version": 3
   },
   "file_extension": ".py",
   "mimetype": "text/x-python",
   "name": "python",
   "nbconvert_exporter": "python",
   "pygments_lexer": "ipython3",
   "version": "3.6.5"
  }
 },
 "nbformat": 4,
 "nbformat_minor": 2
}
