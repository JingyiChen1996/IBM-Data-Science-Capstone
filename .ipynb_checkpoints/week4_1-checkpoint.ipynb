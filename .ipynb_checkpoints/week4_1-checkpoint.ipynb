{
 "cells": [
  {
   "cell_type": "markdown",
   "metadata": {},
   "source": [
    "# Open a New Restaurant in NYC"
   ]
  },
  {
   "cell_type": "markdown",
   "metadata": {},
   "source": [
    "## Introduction"
   ]
  },
  {
   "cell_type": "markdown",
   "metadata": {},
   "source": [
    "Along with the Statue of Liberty, yellow cabs and skyscrapers, food is a quintessential component of New York City. Its status as a cultural melting pot means you can eat your way across the globe within the confines of one city, taking in some iconic dishes along the way.    \n",
    "1. Central and Eastern European immigrants, especially Jewish immigrants - bagels, cheesecake, hot dogs, knishes, and delicatessens\n",
    "2. Italian immigrants - New York-style pizza and Italian cuisine\n",
    "3. Jewish immigrants and Irish immigrants - pastrami and corned beef\n",
    "4. Chinese and other Asian restaurants, sandwich joints, trattorias, diners, and coffeehouses are ubiquitous throughout the city\n",
    "5. Middle Eastern foods such as falafel and kebabs examples of modern New York street food\n",
    "\n",
    "The objective of this project is to locate and recommend which neighborhood of New York city will be best choice to start a restaurant and explain the rationale of the recommendations. "
   ]
  }
 ],
 "metadata": {
  "kernelspec": {
   "display_name": "Python 3",
   "language": "python",
   "name": "python3"
  },
  "language_info": {
   "codemirror_mode": {
    "name": "ipython",
    "version": 3
   },
   "file_extension": ".py",
   "mimetype": "text/x-python",
   "name": "python",
   "nbconvert_exporter": "python",
   "pygments_lexer": "ipython3",
   "version": "3.6.5"
  }
 },
 "nbformat": 4,
 "nbformat_minor": 2
}
